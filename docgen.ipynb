{
 "cells": [
  {
   "cell_type": "code",
   "execution_count": null,
   "id": "dc644826",
   "metadata": {},
   "outputs": [],
   "source": [
    "import os\n",
    "from sklearn.datasets import fetch_20newsgroups\n",
    "\n",
    "# Set the number of documents to save\n",
    "num_docs = 10  # You can change this number\n",
    "\n",
    "# Load the dataset (text only, no headers/footers/quotes)\n",
    "newsgroups_data = fetch_20newsgroups(subset='all', remove=('headers', 'footers', 'quotes'))\n",
    "\n",
    "# Create output directory (optional)\n",
    "output_dir = \"newsgroup_docs\"\n",
    "os.makedirs(output_dir, exist_ok=True)\n",
    "\n",
    "# Write the first `num_docs` documents into separate .txt files\n",
    "for i in range(min(num_docs, len(newsgroups_data.data))):\n",
    "    doc_text = newsgroups_data.data[i]\n",
    "    file_path = os.path.join(output_dir, f\"doc{i+1}.txt\")\n",
    "    with open(file_path, 'w', encoding='utf-8') as f:\n",
    "        f.write(doc_text)\n",
    "    print(f\"Saved {file_path}\")\n"
   ]
  }
 ],
 "metadata": {
  "kernelspec": {
   "display_name": "base",
   "language": "python",
   "name": "python3"
  },
  "language_info": {
   "name": "python",
   "version": "3.12.7"
  }
 },
 "nbformat": 4,
 "nbformat_minor": 5
}
